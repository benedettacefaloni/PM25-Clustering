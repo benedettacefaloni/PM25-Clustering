{
  "cells": [
    {
      "cell_type": "code",
      "execution_count": null,
      "metadata": {
        "colab": {
          "base_uri": "https://localhost:8080/"
        },
        "id": "694g9AEPtnv2",
        "outputId": "98917fef-dbc8-48ca-cb4c-51ab26821e1e"
      },
      "outputs": [],
      "source": [
        "# upload the dataset, count id stations complete for all years and save cleaned data\n",
        "\n",
        "import pandas as pd\n",
        "import numpy as np\n",
        "\n",
        "# function to add week number to the data frame\n",
        "\n",
        "def add_week(data_frame):\n",
        "  data_frame['Time'] = pd.to_datetime(data_frame['Time'])\n",
        "  data_frame['Week'] = data_frame['Time'].dt.isocalendar().week\n",
        "  return data_frame\n",
        "\n",
        "# drop NaN in pm25, add week and log_pm25 and keep only stations with complete pm25 values\n",
        "\n",
        "file_list = ['dataset_2016.csv', 'dataset_2017.csv', 'dataset_2018.csv', 'dataset_2019.csv', 'dataset_2020.csv', 'dataset_2021.csv']\n",
        "years = ['2016', '2017', '2018', '2019', '2020', '2021']\n",
        "df_complete_id_stations = []\n",
        "path = \"../data/\"\n",
        "\n",
        "for file, year in zip(file_list, years):\n",
        "  df = pd.read_csv(path+file)\n",
        "  df.dropna(subset=['AQ_pm25'], inplace=True)\n",
        "  station_counts = df['IDStations'].value_counts()\n",
        "  max_occurrences = station_counts.max()\n",
        "  stations_max_occurrences = station_counts[station_counts == max_occurrences].index.tolist()\n",
        "  df = df[df['IDStations'].isin(stations_max_occurrences)]\n",
        "  df['log_pm25'] = np.log(df['AQ_pm25']+1)\n",
        "  df = add_week(df)\n",
        "  name_file = f'dataset_{year}_cleaned.csv'\n",
        "  df.to_csv(path+name_file, index=False)\n",
        "  number_stations_max_occurrences = len(stations_max_occurrences)\n",
        "  df_complete_id_stations.append(number_stations_max_occurrences)\n",
        "\n",
        "print(\"Results:\")\n",
        "for idx, stations_52 in enumerate(df_complete_id_stations, 1):\n",
        "    print(f\"Dataset {idx}: Number of station id that appear all the weeks: {stations_52}\")\n",
        "\n",
        "# for dataset_2021_cleaned.csv week are wrong (it reads 1/1 as week 53) --> don't use it!"
      ]
    },
    {
      "cell_type": "code",
      "execution_count": null,
      "metadata": {
        "colab": {
          "base_uri": "https://localhost:8080/",
          "height": 617
        },
        "id": "UjnIET-V2mgP",
        "outputId": "d46c9c11-1825-46f1-92aa-24dca65de2fd"
      },
      "outputs": [],
      "source": [
        "# we use year 2019\n",
        "\n",
        "df = pd.read_csv(path + 'dataset_2019_cleaned.csv')\n",
        "df"
      ]
    },
    {
      "cell_type": "code",
      "execution_count": null,
      "metadata": {
        "colab": {
          "base_uri": "https://localhost:8080/"
        },
        "id": "TzIZ3yxwmDz5",
        "outputId": "82e9ec16-3aff-4bd0-f218-016d7dfe9630"
      },
      "outputs": [],
      "source": [
        "# find NaN values\n",
        "missing_values = df.isnull().sum()\n",
        "\n",
        "# print NaN number for every covariate\n",
        "print(missing_values)"
      ]
    },
    {
      "cell_type": "code",
      "execution_count": null,
      "metadata": {
        "colab": {
          "base_uri": "https://localhost:8080/",
          "height": 617
        },
        "id": "R-M5jDLJpLqG",
        "outputId": "42ffb463-3a30-47fc-d538-0f0b84c89b0c"
      },
      "outputs": [],
      "source": [
        "# drop from dataset covariates AQ_co, AQ_nh3, AQ_so2, LA_soil_use\n",
        "covariates_to_drop = ['AQ_co', 'AQ_nh3', 'AQ_so2', 'LA_soil_use']\n",
        "\n",
        "df = df.drop(columns=covariates_to_drop)\n",
        "df"
      ]
    },
    {
      "cell_type": "code",
      "execution_count": null,
      "metadata": {
        "colab": {
          "base_uri": "https://localhost:8080/"
        },
        "id": "XXzKhb4Mm9-B",
        "outputId": "a5050aa3-5b71-4fd5-e70a-e14bdb2f95c5"
      },
      "outputs": [],
      "source": [
        "# NaN values for stations\n",
        "interested_covariates = ['AQ_pm10', 'AQ_nox', 'AQ_no2', 'LI_pigs', 'LI_bovine']\n",
        "station_grouped = df.groupby('IDStations')\n",
        "station_missing_values = {}\n",
        "\n",
        "for station, df_station in station_grouped:\n",
        "    print(f\"Station: {station}\")\n",
        "    covariates_station = df_station[interested_covariates]\n",
        "    missing_values = covariates_station.isnull().sum()\n",
        "    covariate_with_missing = missing_values > 24\n",
        "    if covariate_with_missing.any():\n",
        "        station_missing_values[station] = covariate_with_missing[covariate_with_missing].index.tolist()\n",
        "    print(missing_values)\n",
        "\n",
        "# print stations with missing values\n",
        "for station, covariate_list in station_missing_values.items():\n",
        "    print(f\"Station: {station} - Covariate with missing values: {covariate_list}\")"
      ]
    },
    {
      "cell_type": "code",
      "execution_count": null,
      "metadata": {
        "colab": {
          "base_uri": "https://localhost:8080/"
        },
        "id": "V2YJKe9ssLYa",
        "outputId": "cfcdda4c-2ebf-44bb-e2f4-e4f83ab1282e"
      },
      "outputs": [],
      "source": [
        "# drop stations with too much missing values\n",
        "IDStations_to_drop = list(station_missing_values.keys())\n",
        "df_complete = df[~df['IDStations'].isin(IDStations_to_drop)]\n",
        "\n",
        "# find NaN values\n",
        "missing_values = df_complete.isnull().sum()\n",
        "\n",
        "# print NaN number for every covariate\n",
        "print(missing_values)"
      ]
    },
    {
      "cell_type": "code",
      "execution_count": null,
      "metadata": {
        "colab": {
          "base_uri": "https://localhost:8080/"
        },
        "id": "VgcRpPWkwhWp",
        "outputId": "7a6b4043-8a36-4840-d820-a197e5004edb"
      },
      "outputs": [],
      "source": [
        "# fill NaN in df_complete\n",
        "\n",
        "nan_indices, nan_columns = np.where(pd.isnull(df_complete))\n",
        "print(nan_indices)\n",
        "print(nan_columns)\n",
        "\n",
        "df_filled = df_complete.copy()\n",
        "df_filled.iloc[187, [5, 7]] = (df_complete.iloc[186, [5, 7]] + df_complete.iloc[188, [5, 7]]) / 2\n",
        "df_filled.iloc[203, [7, 8]] = (df_complete.iloc[202, [7, 8]] + df_complete.iloc[204, [7, 8]]) / 2\n",
        "df_filled.iloc[944:953, [7, 8]] = (df_complete.iloc[943, [7, 8]] + df_complete.iloc[954, [7, 8]]) / 2\n",
        "df_filled.iloc[967, [5, 7]] = (df_complete.iloc[966, [5, 7]] + df_complete.iloc[966, [5, 7]]) / 2\n",
        "df_filled.iloc[1075:1077, [7, 8]] = (df_complete.iloc[1074, [7, 8]] + df_complete.iloc[1077, [7, 8]]) / 2\n",
        "df_filled.iloc[1121:1123, [7, 8]] = (df_complete.iloc[1120, [7, 8]] + df_complete.iloc[1123, [7, 8]]) / 2\n",
        "df_filled.iloc[1268:1270, [7, 8]] = (df_complete.iloc[1267, [7, 8]] + df_complete.iloc[1270, [7, 8]]) / 2\n",
        "df_filled.iloc[1279, 7] = (df_complete.iloc[1278, 7] + df_complete.iloc[1280, 7]) / 2\n",
        "df_filled.iloc[1282, [7, 8]] = (df_complete.iloc[1281, [7, 8]] + df_complete.iloc[1283, [7, 8]]) / 2\n",
        "\n",
        "df_filled.to_csv(path + \"dataset_2019_filled.csv\")\n",
        "\n",
        "# find NaN values\n",
        "missing_values = df_filled.isnull().sum()\n",
        "\n",
        "\n",
        "# print NaN number for every covariate\n",
        "print(missing_values)"
      ]
    },
    {
      "cell_type": "code",
      "execution_count": null,
      "metadata": {
        "colab": {
          "base_uri": "https://localhost:8080/"
        },
        "id": "W2Dnfx4O3PTC",
        "outputId": "14e77f3a-991c-41e3-dded-38e81de79574"
      },
      "outputs": [],
      "source": [
        "# create a function that from a data_frame return a dictionary with id_station and time series of log_pm25 values\n",
        "\n",
        "def create_time_series(data_frame):\n",
        "    stations = data_frame['IDStations'].unique()\n",
        "\n",
        "    dict_stations = {}  # stations -> time series\n",
        "    for station in stations:\n",
        "        # Select data for current station\n",
        "        data_station = data_frame[data_frame['IDStations'] == station]\n",
        "\n",
        "        # Crea una time series per la stazione corrente\n",
        "        log_pm25_series = data_station.set_index('Week')['log_pm25']\n",
        "\n",
        "        # Aggiungi la time series al dizionario\n",
        "        dict_stations[station] = log_pm25_series\n",
        "\n",
        "    return dict_stations\n",
        "\n",
        "dict_time_series = create_time_series(df_filled)\n",
        "# access to a particular station --> dict_time_series['station_name']\n",
        "# access to log_pm25 values --> dict_time_series['station_name'].values\n",
        "print(dict_time_series['669'].index)\n",
        "print(dict_time_series['669'].values)\n",
        "# acces to log_pm25 values of a specific week (ex week 13) --> dict_time_series['station_name'][13]\n",
        "\n"
      ]
    },
    {
      "cell_type": "code",
      "execution_count": null,
      "metadata": {
        "colab": {
          "base_uri": "https://localhost:8080/"
        },
        "id": "EbWq9jDxK1n_",
        "outputId": "fb116190-cf40-44f7-ca48-0446da4f85d4"
      },
      "outputs": [],
      "source": [
        "def create_matrix_from_dict(dict_stations):\n",
        "    # Obtain number of stations and max length of time series\n",
        "    num_stations = len(dict_stations)\n",
        "    max_length = max(len(series) for series in dict_stations.values())\n",
        "\n",
        "    # Initialize matrix with NaN values\n",
        "    matrix = np.full((num_stations, max_length), np.nan)\n",
        "\n",
        "    # Put log_pm25 values into matrix\n",
        "    for idx, series in enumerate(dict_stations.values()):\n",
        "        matrix[idx, :len(series)] = series.values\n",
        "\n",
        "    return matrix\n",
        "\n",
        "log_pm25_matrix = create_matrix_from_dict(dict_time_series)\n",
        "\n",
        "print(log_pm25_matrix)\n",
        "print(log_pm25_matrix.shape)"
      ]
    }
  ],
  "metadata": {
    "colab": {
      "provenance": []
    },
    "kernelspec": {
      "display_name": "Python 3",
      "name": "python3"
    },
    "language_info": {
      "codemirror_mode": {
        "name": "ipython",
        "version": 3
      },
      "file_extension": ".py",
      "mimetype": "text/x-python",
      "name": "python",
      "nbconvert_exporter": "python",
      "pygments_lexer": "ipython3",
      "version": "3.9.12"
    }
  },
  "nbformat": 4,
  "nbformat_minor": 0
}
