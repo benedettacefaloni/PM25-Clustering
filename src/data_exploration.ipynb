{
  "cells": [
    {
      "cell_type": "code",
      "execution_count": null,
      "metadata": {
        "colab": {
          "base_uri": "https://localhost:8080/",
          "height": 377
        },
        "id": "zOUHvCHmfPa6",
        "outputId": "ece9ccf3-8801-40c0-ca62-89622b8b78af"
      },
      "outputs": [],
      "source": [
        "# caricare dataset\n",
        "\n",
        "import pandas as pd\n",
        "\n",
        "data_path = \"../data/data_aggregate.csv\"\n",
        "df = pd.read_csv(data_path)\n",
        "df.head()"
      ]
    },
    {
      "cell_type": "code",
      "execution_count": null,
      "metadata": {
        "colab": {
          "base_uri": "https://localhost:8080/"
        },
        "id": "9DfOQ8-wfRT0",
        "outputId": "3e939965-b171-41a6-be4d-e52a8b39b071"
      },
      "outputs": [],
      "source": [
        "# raggruppo per anni e cerco anno con più valori\n",
        "\n",
        "df['Time'] = pd.to_datetime(df['Time'])\n",
        "\n",
        "years = df['Time'].dt.year.unique()\n",
        "years"
      ]
    },
    {
      "cell_type": "code",
      "execution_count": null,
      "metadata": {
        "id": "5EZ2nF-mi3Y3"
      },
      "outputs": [],
      "source": [
        "# creo dataset per ogni anno\n",
        "\n",
        "dataset_years = {year: df[df['Time'].dt.year == year].reset_index(drop=True) for year in years}\n",
        "\n",
        "# salvo dataset in un csv per ogni anno\n",
        "\n",
        "for year, df_year in dataset_years.items():\n",
        "    name_file = f'dataset_{year}.csv'\n",
        "    df_year.to_csv(name_file, index=False)"
      ]
    },
    {
      "cell_type": "code",
      "execution_count": null,
      "metadata": {
        "colab": {
          "base_uri": "https://localhost:8080/"
        },
        "id": "12wZbNYDj87A",
        "outputId": "63bbc49a-10d2-41a3-dacf-36e85fa22bbb"
      },
      "outputs": [],
      "source": [
        "# controllo valori nulli per ogni anno di ogni variabile\n",
        "\n",
        "file_list = ['dataset_2016.csv', 'dataset_2017.csv', 'dataset_2018.csv', 'dataset_2019.csv', 'dataset_2020.csv', 'dataset_2021.csv']\n",
        "df_null_values = {}\n",
        "\n",
        "for file in file_list:\n",
        "  df = pd.read_csv(file)\n",
        "  null_values = df.isnull().sum()\n",
        "  df_null_values[file] = null_values\n",
        "\n",
        "print(df_null_values)\n",
        "\n",
        "# il numero di valori nulli è simile per ogni anno --> non scelgo in base a questo"
      ]
    },
    {
      "cell_type": "code",
      "execution_count": null,
      "metadata": {
        "colab": {
          "base_uri": "https://localhost:8080/"
        },
        "id": "_O8q7-qXfRuX",
        "outputId": "92dee52d-380f-4430-be9c-2bdc3cb332f5"
      },
      "outputs": [],
      "source": [
        "import numpy as np\n",
        "\n",
        "# faccio media per anno di ppm25 e altri valori\n",
        "\n",
        "file_list = ['dataset_2016.csv', 'dataset_2017.csv', 'dataset_2018.csv', 'dataset_2019.csv', 'dataset_2020.csv', 'dataset_2021.csv']\n",
        "df_mean_ppm25 = {}\n",
        "\n",
        "for file in file_list:\n",
        "  df = pd.read_csv(file)\n",
        "  mean_ppm25 = np.mean(df['AQ_pm25'])\n",
        "  df_mean_ppm25[file] = mean_ppm25\n",
        "\n",
        "print(df_mean_ppm25)"
      ]
    },
    {
      "cell_type": "code",
      "execution_count": null,
      "metadata": {
        "colab": {
          "base_uri": "https://localhost:8080/"
        },
        "id": "RxFRbM5VoAvN",
        "outputId": "129841d7-858d-434c-a145-dabd8201385c"
      },
      "outputs": [],
      "source": [
        "# 2016 e 2017 sono più alti degli altri, prendiamo 2017/2018/2020 e vediamo le diverse timeseries dei dati di una stazione\n",
        "\n",
        "df = pd.read_csv('dataset_2017.csv')\n",
        "\n",
        "df['AQ_pm25'] = pd.to_numeric(df['AQ_pm25'], errors='coerce')\n",
        "\n",
        "groups_stations = df.groupby('IDStations')\n",
        "\n",
        "stations_wo_nan_pm25 = []\n",
        "\n",
        "# Itera attraverso i gruppi di stazioni\n",
        "for station, data_station in groups_stations:\n",
        "    # Verifica se la stazione ha valori non nulli per PM2.5 in ogni misurazione\n",
        "    if not data_station['AQ_pm25'].isnull().any():\n",
        "        stations_wo_nan_pm25.append(station)\n",
        "\n",
        "# Stampare le stazioni senza valori nulli di PM2.5 per ogni misurazione\n",
        "print(\"Stazioni senza valori nulli di PM2.5 per ogni misurazione:\")\n",
        "print(stations_wo_nan_pm25)\n",
        "\n",
        "# 1264 (Sondrio), 1265 (Lodi), 1297 (Cremona-molto inquinato), STA.IT0499A (Bolzano), 548 (Milano), CH-0033A (Svizzera) --> più rappresentative"
      ]
    },
    {
      "cell_type": "code",
      "execution_count": null,
      "metadata": {
        "colab": {
          "base_uri": "https://localhost:8080/",
          "height": 607
        },
        "id": "pVMzrzLQwKqm",
        "outputId": "ede498c7-6978-48f3-9936-01a2888c1e1c"
      },
      "outputs": [],
      "source": [
        "# Bolzano-Milano-Cremona nel 2017\n",
        "\n",
        "import matplotlib.pyplot as plt\n",
        "\n",
        "df = pd.read_csv('dataset_2017.csv')\n",
        "\n",
        "# Assicurati che la colonna 'PM2.5' sia in formato numerico e 'Data' sia in formato datetime\n",
        "df['AQ_pm25'] = pd.to_numeric(df['AQ_pm25'], errors='coerce')\n",
        "df['Time'] = pd.to_datetime(df['Time'])\n",
        "\n",
        "# Seleziona tre stazioni\n",
        "stations_sel = ['STA.IT0499A', '548', '1297']\n",
        "labels = ['Bolzano','Milano','Cremona']\n",
        "\n",
        "# Filtra il dataset per le stazioni selezionate\n",
        "df_sel = df[df['IDStations'].isin(stations_sel)]\n",
        "\n",
        "# Crea un subplot per il grafico\n",
        "plt.figure(figsize=(10, 6))\n",
        "\n",
        "# Itera attraverso le stazioni selezionate e plotta i dati PM2.5 nel corso dell'anno\n",
        "for station, label in zip(stations_sel, labels):\n",
        "    df_station = df_sel[df_sel['IDStations'] == station]\n",
        "    plt.plot(df_station['Time'], df_station['AQ_pm25'], label=label)\n",
        "\n",
        "# Impostazioni del grafico\n",
        "plt.title('Variazione PM2.5 nel corso dell\\'anno')\n",
        "plt.xlabel('Time')\n",
        "plt.ylabel('PM2.5')\n",
        "plt.ylim(0,110)\n",
        "plt.legend()\n",
        "plt.grid(True)\n",
        "\n",
        "# Visualizza il grafico\n",
        "plt.tight_layout()\n",
        "plt.show()"
      ]
    },
    {
      "cell_type": "code",
      "execution_count": null,
      "metadata": {
        "colab": {
          "base_uri": "https://localhost:8080/",
          "height": 607
        },
        "id": "flvlJ65vyo0D",
        "outputId": "7116f952-1dc5-4fea-a0ae-db7a6d13d84d"
      },
      "outputs": [],
      "source": [
        "# Bolzano-Milano-Cremona nel 2018\n",
        "\n",
        "import matplotlib.pyplot as plt\n",
        "\n",
        "df = pd.read_csv('dataset_2018.csv')\n",
        "\n",
        "# Assicurati che la colonna 'PM2.5' sia in formato numerico e 'Data' sia in formato datetime\n",
        "df['AQ_pm25'] = pd.to_numeric(df['AQ_pm25'], errors='coerce')\n",
        "df['Time'] = pd.to_datetime(df['Time'])\n",
        "\n",
        "# Seleziona tre stazioni\n",
        "stations_sel = ['STA.IT0499A', '548', '1297']\n",
        "labels = ['Bolzano','Milano','Cremona']\n",
        "\n",
        "# Filtra il dataset per le stazioni selezionate\n",
        "df_sel = df[df['IDStations'].isin(stations_sel)]\n",
        "\n",
        "# Crea un subplot per il grafico\n",
        "plt.figure(figsize=(10, 6))\n",
        "\n",
        "# Itera attraverso le stazioni selezionate e plotta i dati PM2.5 nel corso dell'anno\n",
        "for station, label in zip(stations_sel, labels):\n",
        "    df_station = df_sel[df_sel['IDStations'] == station]\n",
        "    plt.plot(df_station['Time'], df_station['AQ_pm25'], label=label)\n",
        "\n",
        "# Impostazioni del grafico\n",
        "plt.title('Variazione PM2.5 nel corso dell\\'anno')\n",
        "plt.xlabel('Time')\n",
        "plt.ylabel('PM2.5')\n",
        "plt.ylim(0,110)\n",
        "plt.legend()\n",
        "plt.grid(True)\n",
        "\n",
        "# Visualizza il grafico\n",
        "plt.tight_layout()\n",
        "plt.show()"
      ]
    },
    {
      "cell_type": "code",
      "execution_count": null,
      "metadata": {
        "colab": {
          "base_uri": "https://localhost:8080/",
          "height": 607
        },
        "id": "tOW77FFgyv66",
        "outputId": "e8caa9d9-b7af-4ec9-ab87-150bfba83fac"
      },
      "outputs": [],
      "source": [
        "# Bolzano-Milano-Cremona nel 2020\n",
        "\n",
        "import matplotlib.pyplot as plt\n",
        "\n",
        "df = pd.read_csv('dataset_2020.csv')\n",
        "\n",
        "# Assicurati che la colonna 'PM2.5' sia in formato numerico e 'Data' sia in formato datetime\n",
        "df['AQ_pm25'] = pd.to_numeric(df['AQ_pm25'], errors='coerce')\n",
        "df['Time'] = pd.to_datetime(df['Time'])\n",
        "\n",
        "# Seleziona tre stazioni\n",
        "stations_sel = ['STA.IT0499A', '548', '1297']\n",
        "labels = ['Bolzano','Milano','Cremona']\n",
        "\n",
        "# Filtra il dataset per le stazioni selezionate\n",
        "df_sel = df[df['IDStations'].isin(stations_sel)]\n",
        "\n",
        "# Crea un subplot per il grafico\n",
        "plt.figure(figsize=(10, 6))\n",
        "\n",
        "# Itera attraverso le stazioni selezionate e plotta i dati PM2.5 nel corso dell'anno\n",
        "for station, label in zip(stations_sel, labels):\n",
        "    df_station = df_sel[df_sel['IDStations'] == station]\n",
        "    plt.plot(df_station['Time'], df_station['AQ_pm25'], label=label)\n",
        "\n",
        "# Impostazioni del grafico\n",
        "plt.title('Variazione PM2.5 nel corso dell\\'anno')\n",
        "plt.xlabel('Time')\n",
        "plt.ylabel('PM2.5')\n",
        "plt.ylim(0,110)\n",
        "plt.legend()\n",
        "plt.grid(True)\n",
        "\n",
        "# Visualizza il grafico\n",
        "plt.tight_layout()\n",
        "plt.show()"
      ]
    },
    {
      "cell_type": "code",
      "execution_count": null,
      "metadata": {
        "colab": {
          "base_uri": "https://localhost:8080/"
        },
        "id": "zH4g9AnvfYfL",
        "outputId": "2608609e-1cd9-46a4-b48c-4b5ee8ecb041"
      },
      "outputs": [],
      "source": [
        "# timeseries dei dati di una/due stazioni in diversi anni, vedere se segue dei trend (prendere stazioni in parti diverse)\n",
        "\n",
        "df = pd.read_csv(data_path)\n",
        "\n",
        "df['AQ_pm25'] = pd.to_numeric(df['AQ_pm25'], errors='coerce')\n",
        "\n",
        "groups_stations = df.groupby('IDStations')\n",
        "\n",
        "stations_wo_nan_pm25 = []\n",
        "\n",
        "# Itera attraverso i gruppi di stazioni\n",
        "for station, data_station in groups_stations:\n",
        "    # Verifica se la stazione ha valori non nulli per PM2.5 in ogni misurazione\n",
        "    if not data_station['AQ_pm25'].isnull().any():\n",
        "        stations_wo_nan_pm25.append(station)\n",
        "\n",
        "# Stampare le stazioni senza valori nulli di PM2.5 per ogni misurazione\n",
        "print(\"Stazioni senza valori nulli di PM2.5 per ogni misurazione:\")\n",
        "print(stations_wo_nan_pm25)\n",
        "\n",
        "# tutti gli anni completi --> 1297 (Cremona), STA-CH0033A (Svizzera)"
      ]
    },
    {
      "cell_type": "code",
      "execution_count": null,
      "metadata": {
        "colab": {
          "base_uri": "https://localhost:8080/",
          "height": 642
        },
        "id": "G0eX7Jm4zhJj",
        "outputId": "6d6b9712-a30f-49c1-c0c6-039c8456606e"
      },
      "outputs": [],
      "source": [
        "# Cremona-Svizzera in tutti gli anni\n",
        "\n",
        "import matplotlib.pyplot as plt\n",
        "\n",
        "df = pd.read_csv(data_path)\n",
        "\n",
        "# Assicurati che la colonna 'PM2.5' sia in formato numerico e 'Data' sia in formato datetime\n",
        "df['AQ_pm25'] = pd.to_numeric(df['AQ_pm25'], errors='coerce')\n",
        "df['Time'] = pd.to_datetime(df['Time'])\n",
        "\n",
        "# Seleziona tre stazioni\n",
        "stations_sel = ['STA-CH0033A', 1297]\n",
        "labels = ['Svizzera','Cremona']\n",
        "\n",
        "# Filtra il dataset per le stazioni selezionate\n",
        "df_sel = df[df['IDStations'].isin(stations_sel)]\n",
        "\n",
        "# Crea un subplot per il grafico\n",
        "plt.figure(figsize=(10, 6))\n",
        "\n",
        "# Itera attraverso le stazioni selezionate e plotta i dati PM2.5 nel corso dell'anno\n",
        "for station, label in zip(stations_sel, labels):\n",
        "    df_station = df_sel[df_sel['IDStations'] == station]\n",
        "    plt.plot(df_station['Time'], df_station['AQ_pm25'], label=label)\n",
        "\n",
        "# Impostazioni del grafico\n",
        "plt.title('Variazione PM2.5 nel corso di diversi anni')\n",
        "plt.xlabel('Time')\n",
        "plt.ylabel('PM2.5')\n",
        "plt.ylim(0,110)\n",
        "plt.legend()\n",
        "plt.grid(True)\n",
        "\n",
        "# Visualizza il grafico\n",
        "plt.tight_layout()\n",
        "plt.show()"
      ]
    },
    {
      "cell_type": "markdown",
      "metadata": {},
      "source": [
        "## Time Series Analysis"
      ]
    },
    {
      "cell_type": "code",
      "execution_count": null,
      "metadata": {},
      "outputs": [],
      "source": [
        "df_timeseries = df_sel[df_sel[\"IDStations\"] == stations_sel[0]][[\"Time\", \"AQ_pm25\"]]\n",
        "print(df_timeseries.head())"
      ]
    },
    {
      "cell_type": "code",
      "execution_count": null,
      "metadata": {},
      "outputs": [],
      "source": [
        "import statsmodels.api as sm\n",
        "from statsmodels.tsa.api import ExponentialSmoothing\n",
        "\n",
        "decomp_type = \"multplicative\"  # \"additive\"\n",
        "period_size = 52\n",
        "decomp = {}\n",
        "\n",
        "time = df_sel[df_sel[\"IDStations\"] == station][\"Time\"].reset_index()\n",
        "\n",
        "for station, label in zip(stations_sel, labels):\n",
        "    df_timeseries = df_sel[df_sel[\"IDStations\"] == station][\"AQ_pm25\"].reset_index()\n",
        "    decomp[label] = sm.tsa.seasonal_decompose(\n",
        "        df_timeseries[\"AQ_pm25\"], model=decomp_type, period=period_size,\n",
        "    )\n",
        "\n",
        "fig, ax = plt.subplots(4, 1, figsize=(10, 6), sharex=True)\n",
        "\n",
        "ax[0].plot(decomp[\"Svizzera\"].observed, label=\"Svizzera\")\n",
        "ax[0].plot(decomp[\"Cremona\"].observed, label=\"Cremona\")\n",
        "ax[0].set_ylabel(\"Observed\")\n",
        "ax[0].legend(loc=\"upper right\")\n",
        "\n",
        "ax[1].plot(decomp[\"Svizzera\"].trend)\n",
        "ax[1].plot(decomp[\"Cremona\"].trend)\n",
        "ax[1].set_ylabel(\"Trend\")\n",
        "\n",
        "ax[2].plot(decomp[\"Svizzera\"].seasonal)\n",
        "ax[2].plot(decomp[\"Cremona\"].seasonal)\n",
        "ax[2].set_ylabel(\"Seasonal\")\n",
        "\n",
        "ax[3].plot(decomp[\"Svizzera\"].resid)\n",
        "ax[3].plot(decomp[\"Cremona\"].resid)\n",
        "ax[3].set_ylabel(\"Residual\")\n",
        "\n",
        "fig.suptitle(\"{} Time Series Decomposition\".format(decomp_type))\n",
        "plt.xlabel(\"Weeks\")\n",
        "plt.show()"
      ]
    },
    {
      "cell_type": "code",
      "execution_count": null,
      "metadata": {},
      "outputs": [],
      "source": []
    }
  ],
  "metadata": {
    "colab": {
      "provenance": []
    },
    "kernelspec": {
      "display_name": "Python 3",
      "name": "python3"
    },
    "language_info": {
      "codemirror_mode": {
        "name": "ipython",
        "version": 3
      },
      "file_extension": ".py",
      "mimetype": "text/x-python",
      "name": "python",
      "nbconvert_exporter": "python",
      "pygments_lexer": "ipython3",
      "version": "3.9.12"
    }
  },
  "nbformat": 4,
  "nbformat_minor": 0
}
